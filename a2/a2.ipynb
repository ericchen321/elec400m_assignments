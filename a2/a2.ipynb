{
 "cells": [
  {
   "cell_type": "markdown",
   "metadata": {
    "deletable": false,
    "editable": false,
    "nbgrader": {
     "cell_type": "markdown",
     "checksum": "8a33f7f18d35505313d496f4127abd74",
     "grade": false,
     "grade_id": "Intro",
     "locked": true,
     "schema_version": 3,
     "solution": false,
     "task": false
    }
   },
   "source": [
    "**Due date is Wednesday, March 10, 2021, 23:59 PST**\n",
    "\n",
    "**ONLY write into the existing cells, and do NOT delete or add any cells.**\n",
    "\n",
    "# ELEC 400M / EECE 571M Assignment 2: Neural networks\n",
    "(This assignment is a modified version of an assignment used in ECE 421 at the University of Toronto and kindly made available to us by the instructor.)\n",
    "\n",
    "In this assignment, you will implement a neural network model for multi-class classification. The purpose is to demonstrate an understanding of the basic elements including training of neural network models. Hence, your implementation will be from scratch only using functions from the NumPy library.\n",
    "\n",
    "The neural network you will be implementing has the following structure:\n",
    "* 1 input layer, 1 hidden layer with ReLU activation and 1 output layer with Softmax function\n",
    "* The loss function is the Cross Entropy Loss.\n",
    "* Training will be done using Gradient Descent with Momentum. "
   ]
  },
  {
   "cell_type": "markdown",
   "metadata": {
    "deletable": false,
    "editable": false,
    "nbgrader": {
     "cell_type": "markdown",
     "checksum": "dc7ef262bb87915b5a92ab9f98d752e3",
     "grade": false,
     "grade_id": "DataSet",
     "locked": true,
     "schema_version": 3,
     "solution": false,
     "task": false
    }
   },
   "source": [
    "## Data Set\n",
    "We again consider the dataset of images of letters in different fonts contained in file notMNIST.npz (which btw is from http://yaroslavvb.blogspot.com/2011/09/notmnist-dataset.html). This time we consider 10 letters (\"A\" to \"J\"), which are all the letters contained in this data set, and we want to classfiy the images according to the letter they display. The figure below shows 30 randomly selected image samples for the letters.\n",
    "\n",
    "<img src=\"sample_images_2.png\" width=\"400\">\n",
    "\n",
    "You will apply the function `loadData` given below to load the data set, which includes 18720 images and their labels, which we also refer to as **targets**. This script organizes the data set into training, validation and test sets. "
   ]
  },
  {
   "cell_type": "code",
   "execution_count": 1,
   "metadata": {
    "deletable": false,
    "editable": false,
    "nbgrader": {
     "cell_type": "code",
     "checksum": "af1861b6e09a7715ff2dcdc3a42f2c6b",
     "grade": false,
     "grade_id": "SetUp",
     "locked": true,
     "schema_version": 3,
     "solution": false,
     "task": false
    }
   },
   "outputs": [],
   "source": [
    "%matplotlib inline\n",
    "import matplotlib.pyplot as plt\n",
    "import numpy as np"
   ]
  },
  {
   "cell_type": "code",
   "execution_count": 2,
   "metadata": {
    "deletable": false,
    "editable": false,
    "nbgrader": {
     "cell_type": "code",
     "checksum": "68c1ebeac7ebb9bb72e3088320c975b3",
     "grade": false,
     "grade_id": "loadData",
     "locked": true,
     "schema_version": 3,
     "solution": false,
     "task": false
    }
   },
   "outputs": [],
   "source": [
    "def loadData():\n",
    "    with np.load('notMNIST.npz') as data:\n",
    "        Data, Target = data['images'], data['labels']\n",
    "        np.random.seed(521)\n",
    "        randIndx = np.arange(len(Data))\n",
    "        np.random.shuffle(randIndx)\n",
    "        Data = Data[randIndx]/255.0\n",
    "        Target = Target[randIndx]\n",
    "        trainData, trainTarget = Data[:15000], Target[:15000]\n",
    "        validData, validTarget = Data[15000:16000], Target[15000:16000]\n",
    "        testData, testTarget = Data[16000:], Target[16000:]\n",
    "       \n",
    "    return trainData, validData, testData, trainTarget, validTarget, testTarget"
   ]
  },
  {
   "cell_type": "markdown",
   "metadata": {
    "deletable": false,
    "editable": false,
    "nbgrader": {
     "cell_type": "markdown",
     "checksum": "e69132009f26cd98119e648e6fd178ed",
     "grade": false,
     "grade_id": "DataPreproc",
     "locked": true,
     "schema_version": 3,
     "solution": false,
     "task": false
    }
   },
   "source": [
    "## Data preprocessing [5 points]\n",
    "\n",
    "Input data: The classification should be based on the $d=28\\times 28=784$ intensity values in an image (as for Assignment 1).\n",
    "\n",
    "Output data: Since you will be performing multi-class classification, the labels will be converted into a one-hot encoding format. \n",
    "\n",
    "Please first briefly explain the meaning of one-hot encoding and why it is used (instead of keeping the numerical label values provided by the data set). State an example for a one-hot encoded label for the data set considered in this assignment. Use the text cell below for this. \n",
    "\n",
    "After that, implement a function that one-hot encodes the labels (or targets) for the training, validation and test sets"
   ]
  },
  {
   "cell_type": "markdown",
   "metadata": {
    "deletable": false,
    "nbgrader": {
     "cell_type": "markdown",
     "checksum": "fbf66cee42a61f4b7dd864089bfe4f48",
     "grade": true,
     "grade_id": "OneHotEncExplain",
     "locked": false,
     "points": 2,
     "schema_version": 3,
     "solution": true,
     "task": false
    }
   },
   "source": [
    "1. **Meaning of one-hot encoding**: for each sample, the label is a $(c+1) \\times 1$ vector with each element corresponds to one class. For mutli-class classification, each label has one element being 1, the other elements being 0. \n",
    "2. **Why it is used**: compared with numerical label values, a one-hot-key label 1) does not imply distance among classes, or ordering of classes. 2) Also with numerical label values, having a large number of classes would lead to the range of label values to be fairly large. Then finding weights would be difficult.\n",
    "3. Example: For letter 'A', the one-hot-key encoding would be $$\\begin{bmatrix}\n",
    "           1 \\\\\n",
    "           0 \\\\\n",
    "           \\vdots \\\\\n",
    "           0\n",
    "         \\end{bmatrix}.$$ The vector has 10 rows, and the 0's in the 7 rows in the middle are omitted."
   ]
  },
  {
   "cell_type": "code",
   "execution_count": 3,
   "metadata": {
    "deletable": false,
    "nbgrader": {
     "cell_type": "code",
     "checksum": "1a5f254ce1801a15c82d9b673b44c95e",
     "grade": true,
     "grade_id": "OneHotEncCode",
     "locked": false,
     "points": 3,
     "schema_version": 3,
     "solution": true,
     "task": false
    },
    "scrolled": true
   },
   "outputs": [],
   "source": [
    "def convertOneHot(trainTarget, validTarget, testTarget):\n",
    "    # YOUR CODE HERE\n",
    "    \"\"\"\n",
    "    Returns a tuple of three one-hot target matrices, each of dim \n",
    "    c x N_i, where c is the number of classes, N_i is the number \n",
    "    of samples in each set\n",
    "    \"\"\"\n",
    "    # initialize one-hot target matrices\n",
    "    trainTargetOneHot = np.zeros((10, trainTarget.shape[0]))\n",
    "    validTargetOneHot = np.zeros((10, validTarget.shape[0]))\n",
    "    testTargetOneHot = np.zeros((10, testTarget.shape[0]))\n",
    "    \n",
    "    # build one-hot target matrices\n",
    "    targetList = [trainTarget, validTarget, testTarget]\n",
    "    targetOneHotList = [trainTargetOneHot, validTargetOneHot, testTargetOneHot]\n",
    "    for i in range(0, len(targetList)):\n",
    "        target = targetList[i]\n",
    "        targetOneHot = targetOneHotList[i]\n",
    "        for col in range(0, len(target)):\n",
    "            targetOneHot[target[col], col] = 1\n",
    "        \n",
    "    return (trainTargetOneHot, validTargetOneHot, testTargetOneHot)\n",
    "\n",
    "# test code\n",
    "from PIL import Image\n",
    "from IPython.display import Image as ImageIPy\n",
    "from IPython.display import display\n",
    "\n",
    "trainData, validData, testData, trainTarget, validTarget, testTarget = loadData()\n",
    "\n",
    "#print(trainData[0].shape)\n",
    "#trainData0Img = Image.fromarray((trainData[0] * 255).astype('uint8'), mode='L')\n",
    "#trainData0Img.save('trainData0Img.png', 'png')\n",
    "#display(ImageIPy(filename='trainData0Img.png'))\n",
    "#validData9Img = Image.fromarray((validData[9] * 255).astype('uint8'), mode='L')\n",
    "#validData9Img.save('validData9Img.png', 'png')\n",
    "#display(ImageIPy(filename='validData9Img.png'))\n",
    "\n",
    "trainTargetOneHot, validTargetOneHot, testTargetOneHot = convertOneHot(trainTarget, validTarget, testTarget)\n",
    "\n",
    "# check train[0]\n",
    "trainTargetOneHot0Expected = np.zeros((10,))\n",
    "trainTargetOneHot0Expected[5] = 1\n",
    "assert np.linalg.norm(np.subtract(trainTargetOneHot[:, 0], trainTargetOneHot0Expected))<0.01\n",
    "\n",
    "# check valid[9]\n",
    "validTargetOneHot9Expected = np.zeros((10,))\n",
    "validTargetOneHot9Expected[2] = 1\n",
    "assert np.linalg.norm(np.subtract(validTargetOneHot[:, 9], validTargetOneHot9Expected))<0.01"
   ]
  },
  {
   "cell_type": "markdown",
   "metadata": {
    "deletable": false,
    "editable": false,
    "nbgrader": {
     "cell_type": "markdown",
     "checksum": "7c00af71e611d88fe25aad66e458007f",
     "grade": false,
     "grade_id": "Structure",
     "locked": true,
     "schema_version": 3,
     "solution": false,
     "task": false
    }
   },
   "source": [
    "## Structure of the network [2 points]\n",
    "\n",
    "Sketch the structure of the network to classify the letters from the data set. Identify the dimensions of the network layers, include the activation functions, and do not forget the bias nodes. (You may sketch this by hand and upload a photo of your sketch.)"
   ]
  },
  {
   "cell_type": "markdown",
   "metadata": {
    "deletable": false,
    "nbgrader": {
     "cell_type": "markdown",
     "checksum": "8b2c72af679e822ca2a0afb98aa79c6c",
     "grade": true,
     "grade_id": "SketchStructure",
     "locked": false,
     "points": 2,
     "schema_version": 3,
     "solution": true,
     "task": false
    }
   },
   "source": [
    "![structure](asst3_structure_new2.png)"
   ]
  },
  {
   "cell_type": "markdown",
   "metadata": {
    "deletable": false,
    "editable": false,
    "nbgrader": {
     "cell_type": "markdown",
     "checksum": "aaa1fe4169289285a4d2715dffa60392",
     "grade": false,
     "grade_id": "HelperFunctions",
     "locked": true,
     "schema_version": 3,
     "solution": false,
     "task": false
    }
   },
   "source": [
    "## Helper functions [6 points]\n",
    "To give the implementation of the network some structure, you will first implement five helper functions. \n",
    "\n",
    "Use Numpy arrays for your implementations, and organize data in vectors and matrices as appropriate for compact programming (i.e., avoid `for` loops).\n",
    "\n",
    "1. `relu`: This function will accept one argument and return the ReLU activation: \n",
    "    $$\\mathrm{ReLU}(x)=\\max(0,x).$$\n",
    "    \n",
    "2. `softmax`: This function will accept one argument and return the softmax activations:\n",
    "    $$ [\\sigma(\\mathbf{z})]_j = \\frac{\\mathrm{e}^{z_j}}{\\sum\\limits_{k=1}^K\\mathrm{e}^{z_k}},$$ $j=1,2,\\ldots, K$,  for $K$ classes.\n",
    "    \n",
    "You may want to program the `relu` and the `softmax` functions that you call them once for all $N$ samples to be processed.    \n",
    "\n",
    "3. `computeLayer`: This function will accept two arguments, the input vectors $\\mathbf{x}^{(\\ell-1)}_n$ and the weight matrix $\\mathbf{W}^{(\\ell)}$ for a layer $\\ell$, and return the vectors $\\mathbf{s}_n^{(\\ell)}=(\\mathbf{W}^{(\\ell)})^T\\mathbf{x}_n^{(\\ell)}$, $n=1,2,\\ldots,N$, i.e., the inputs to the activation function of that layer (the notation for variables from the textbook is used). Don't forget to account for the bias term (which can be included in augmented vectors $\\mathbf{x}^{(\\ell)}_n$ as in the textbook).\n",
    "\n",
    "4. `CE`: This function will accept two arguments, the one-hot encoded labels $\\mathbf{y}_n$ and the inputs $\\mathbf{s}_n$ to the softmax function, $n=1,2,\\ldots, N$. It will return the average cross entropy loss\n",
    "$$\\mathrm{E}_{\\mathrm{in}}=-\\frac{1}{N}\\sum\\limits_{n=1}^N\\sum\\limits_{k=1}^Ky_{n,k}\\log([\\sigma(\\mathbf{s}_n)]_k)$$\n",
    "\n",
    "5. `gradCE`: This function will accept two arguments, the one-hot encoded labels $\\mathbf{y}_n$ and the inputs $\\mathbf{s}_n$ to the softmax function, $n=1,2,\\ldots, N$. It will return the gradients of the cross entropy loss for each data sample with respect to $\\mathbf{s}_n$, i.e., it returns the sensivity vectors for the output layer as introduced in the textbook:\n",
    "$$\\boldsymbol{\\mathbf{\\delta}}^{(L)}_n=\\frac{\\partial e_n}{\\partial \\mathbf{s}_n^{(L)}},\\quad n=1,2,\\ldots,N.$$. \n",
    "\n",
    "First state the analytical expression for the gradient used in `gradCE` and then implement the five helper functions."
   ]
  },
  {
   "cell_type": "markdown",
   "metadata": {
    "deletable": false,
    "nbgrader": {
     "cell_type": "markdown",
     "checksum": "8d337d81b627603dcd7e4d1212b0d8b8",
     "grade": true,
     "grade_id": "gradCEfomula",
     "locked": false,
     "points": 1,
     "schema_version": 3,
     "solution": true,
     "task": false
    }
   },
   "source": [
    "Here we discuss two cases: 1) For the last layer, as required by the helper function, where $l=L$, and 2) For the hidden layers, where $1 \\leq l < L$. \n",
    "1. **For the last layer where $l=L$.** For any sample $n$, the loss with respect to $\\mathbf{s}_n^{(L)}$ is $$e_n = -\\sum\\limits_{k=1}^Ky_{n,k}\\log([\\sigma(\\mathbf{s}_n^{(L)})]_k).$$ After calculating derivatives, we can get its derivative with respect to $\\mathbf{s}_n^{(L)}$: $$\\boldsymbol{\\mathbf{\\delta}}^{(L)}_n = \\frac{\\partial e_n}{\\partial \\mathbf{s}_n^{(L)}} =  \\mathbf{x}_n^{(L)} - \\mathbf{y}_n.$$ This is a $d^{(L)} \\times 1$ vector. Since we have 10 classes, $d^{(L)} = 10$.\n",
    "\n",
    "2. **For the hidden layers where $1 \\leq l < L$**. Here we want to compute the sensitivity vector $\\boldsymbol{\\mathbf{\\delta}}^{(l)}_n$ for any node in the hidden layers. So we have $$\\boldsymbol{\\mathbf{\\delta}}^{(l)}_n = \\frac{\\partial e_n}{\\partial \\mathbf{s}_n^{(l)}} = \\frac{\\partial e_n}{\\partial \\mathbf{x}_n^{(l)}}\\frac{\\partial \\mathbf{x}_n^{(l)}}{\\partial \\mathbf{s}_n^{(l)}} = [\\mathbf{W}^{(l+1)}\\boldsymbol{\\mathbf{\\delta}}_n^{(l+1)}]_{1}^{d(l+1)} \\otimes \\{\\mathbf{s}_n^{(l)}>=0\\}, $$ where $\\boldsymbol{\\mathbf{\\delta}}^{(l+1)}_n$ is a $d^{(l+1)} \\times 1$ vector, $\\otimes$ stands for element-wise multiplication, and $\\{\\mathbf{s}_n^{(l)}>=0\\}$ is the derivative of the ReLU activation function at layer $l$ which takes a binary value in $\\{0, 1\\}$. In our network, for the hidden layer we only have $l=1$ and $l+1=2=L$. So the equation becomes $$\\boldsymbol{\\mathbf{\\delta}}^{(1)}_n = \\frac{\\partial e_n}{\\partial \\mathbf{s}_n^{(1)}} = \\frac{\\partial e_n}{\\partial \\mathbf{x}_n^{(1)}}\\frac{\\partial \\mathbf{x}_n^{(1)}}{\\partial \\mathbf{s}_n^{(1)}} = [\\mathbf{W}^{(L)}\\boldsymbol{\\mathbf{\\delta}}_n^{(L)}]_{1}^{d(L)} \\otimes \\{\\mathbf{s}_n^{(1)}>=0\\}. $$"
   ]
  },
  {
   "cell_type": "code",
   "execution_count": 4,
   "metadata": {
    "deletable": false,
    "nbgrader": {
     "cell_type": "code",
     "checksum": "08deb980977ef239e27a008454c0abb3",
     "grade": true,
     "grade_id": "relu",
     "locked": false,
     "points": 1,
     "schema_version": 3,
     "solution": true,
     "task": false
    }
   },
   "outputs": [],
   "source": [
    "def relu(x):\n",
    "    # YOUR CODE HERE\n",
    "    \"\"\"Takes array x of arbitrary shape, returns max(0, x)\n",
    "    of the same shape\n",
    "    \"\"\"\n",
    "    return np.maximum(x, 0)\n",
    "\n",
    "# test code\n",
    "# check one sample, 1 dim array\n",
    "s = np.array([-2, -1, 0, 1, 2])\n",
    "x = relu(s)\n",
    "xExpected = np.array([0, 0, 0, 1, 2])\n",
    "assert np.linalg.norm(np.subtract(x, xExpected))<0.01\n",
    "\n",
    "# check one sample, 4x1 array\n",
    "s = np.array([[3],[2],[0],[-4]])\n",
    "x = relu(s)\n",
    "xExpected = np.array([[3],[2],[0],[0]])\n",
    "assert np.linalg.norm(np.subtract(x, xExpected))<0.01\n",
    "\n",
    "# check two samples\n",
    "s = np.array([[3, 1],[2, 0],[0, 9],[-4, -3]])\n",
    "x = relu(s)\n",
    "xExpected = np.array([[3, 1],[2, 0],[0, 9],[0, 0]])\n",
    "assert np.linalg.norm(np.subtract(x, xExpected))<0.01"
   ]
  },
  {
   "cell_type": "code",
   "execution_count": 5,
   "metadata": {
    "deletable": false,
    "nbgrader": {
     "cell_type": "code",
     "checksum": "9701b180e308041ec0850f728ea409c2",
     "grade": true,
     "grade_id": "softmax",
     "locked": false,
     "points": 1,
     "schema_version": 3,
     "solution": true,
     "task": false
    }
   },
   "outputs": [],
   "source": [
    "def softmax(x):    \n",
    "    # YOUR CODE HERE\n",
    "    \"\"\"\n",
    "    Returns the softmax of x, as a vector with same shape\n",
    "    as x. \n",
    "    x should be of shape (c, N) where c is the number of classes.\n",
    "    \"\"\"\n",
    "    exp = np.exp(x-np.ndarray.max(x))\n",
    "    denos = np.sum(exp, axis=0)\n",
    "    softmax = exp / denos\n",
    "    return softmax\n",
    "\n",
    "# test code\n",
    "# check one sample\n",
    "s = np.array([[3],[2],[0],[-4]])\n",
    "x = softmax(s)\n",
    "xExpected = np.array([[0.7049],[0.2593],[0.0350],[6.4281e-4]])\n",
    "assert np.linalg.norm(np.subtract(x, xExpected))<0.01\n",
    "\n",
    "# check two samples\n",
    "s = np.array([[3, 2],[4, 8], [1, 3]])\n",
    "x = softmax(s)\n",
    "xExpected = np.array([[0.2594, 0.002456],[0.7053, 0.9908],[0.0351, 0.006676]])\n",
    "assert np.linalg.norm(np.subtract(x, xExpected))<0.01"
   ]
  },
  {
   "cell_type": "code",
   "execution_count": 6,
   "metadata": {
    "deletable": false,
    "nbgrader": {
     "cell_type": "code",
     "checksum": "efc09c25d2160f6edf0daa186948586d",
     "grade": true,
     "grade_id": "computeLayer",
     "locked": false,
     "points": 1,
     "schema_version": 3,
     "solution": true,
     "task": false
    }
   },
   "outputs": [],
   "source": [
    "def computeLayer(x,W):\n",
    "    # YOUR CODE HERE\n",
    "    \"\"\"\n",
    "    Computes W^T * x.\n",
    "    Inputs:\n",
    "    - x: vector of shape (d(l-1), N)\n",
    "    - W: vector of shape (d(l-1)+1, d(l))\n",
    "    Returns:\n",
    "    - s(l) of shape (d(l), N).\n",
    "    \"\"\"\n",
    "    xNew = np.insert(x, 0, 1.0, axis=0)\n",
    "    s = np.matmul(np.transpose(W), xNew)\n",
    "    return s\n",
    "\n",
    "# test code\n",
    "# check one sample\n",
    "W = np.array([[5, 2, 1],[1, 3, 4],[2, 1, 9],[6, 7, 8]])\n",
    "x = np.array([[4],[3],[5]])\n",
    "s = computeLayer(x, W)\n",
    "sExpected = np.array([[45],[52],[84]])\n",
    "assert np.linalg.norm(np.subtract(s, sExpected))<0.01\n",
    "\n",
    "# check two samples\n",
    "W = np.array([[5, 2, 1],[1, 3, 4],[2, 1, 9],[6, 7, 8]])\n",
    "x = np.array([[4, 1],[3, 2],[5, 2]]) # transposed data matrix\n",
    "s = computeLayer(x, W)\n",
    "sExpected = np.array([[45, 22],[52, 21],[84, 39]])\n",
    "assert np.linalg.norm(np.subtract(s, sExpected))<0.01"
   ]
  },
  {
   "cell_type": "code",
   "execution_count": 7,
   "metadata": {
    "deletable": false,
    "nbgrader": {
     "cell_type": "code",
     "checksum": "eb143ae296c84ba78f394f98fb8c0f98",
     "grade": true,
     "grade_id": "CE",
     "locked": false,
     "points": 1,
     "schema_version": 3,
     "solution": true,
     "task": false
    }
   },
   "outputs": [],
   "source": [
    "def CE(target, softmaxinput):\n",
    "    # YOUR CODE HERE\n",
    "    \"\"\"\n",
    "    Computes the average cross-entropy across N samples.\n",
    "    Inputs:\n",
    "    - target: one-hot coded target matrix with shape (c, N)\n",
    "    - softmaxinput: inputs to the softmax layer of shape (c, N)\n",
    "    Returns:\n",
    "    - E_in as a scalar\n",
    "    \"\"\"\n",
    "    smaxout = softmax(softmaxinput)\n",
    "    e = np.sum(np.multiply(target, np.log(smaxout)), axis=0, keepdims=True)\n",
    "    N = target.shape[1]\n",
    "    E = -1.0/N * np.sum(e, axis=1)\n",
    "    return E[0]\n",
    "    \n",
    "# test code\n",
    "# check one sample\n",
    "y = np.array([[0],[1],[0]])\n",
    "s = np.array([[3],[4],[1]])\n",
    "E = CE(y, s)\n",
    "EExpected = 0.34902\n",
    "assert np.linalg.norm(np.subtract(E, EExpected))<0.01\n",
    "\n",
    "# check two samples\n",
    "y = np.array([[0, 1],[1, 0],[0, 0]])\n",
    "s = np.array([[3, 2],[4, 8],[1, 3]])\n",
    "E = CE(y, s)\n",
    "EExpected = 3.1791\n",
    "assert np.linalg.norm(np.subtract(E, EExpected))<0.01"
   ]
  },
  {
   "cell_type": "code",
   "execution_count": 8,
   "metadata": {
    "deletable": false,
    "nbgrader": {
     "cell_type": "code",
     "checksum": "df034457645dc7e423ae8dbdf9c06160",
     "grade": true,
     "grade_id": "gradCE",
     "locked": false,
     "points": 1,
     "schema_version": 3,
     "solution": true,
     "task": false
    }
   },
   "outputs": [],
   "source": [
    "def gradCE(target, softmaxinput):\n",
    "    # YOUR CODE HERE\n",
    "    \"\"\"\n",
    "    Returns the sensitivity vectors from the output layer.\n",
    "    Inputs:\n",
    "    - target: one-hot coded target matrix with shape (d(L), N)\n",
    "    - softmaxinput: inputs to the softmax layer of shape (d(L), N)\n",
    "    Returns:\n",
    "    - the (d(L), N) sensitivity vector for all N samples\n",
    "    \"\"\"\n",
    "    #print(f\"target: {target}\")\n",
    "    xL = softmax(softmaxinput)\n",
    "    #print(f\"xL: {xL}\")\n",
    "    sens = xL - target\n",
    "    #print(f\"sensL: {sens}\")\n",
    "    return sens\n",
    "\n",
    "# test code\n",
    "# check one sample\n",
    "y = np.array([[0],[1],[0]])\n",
    "sL = np.array([[2],[5],[3]])\n",
    "sens = gradCE(y, sL)\n",
    "h = 1e-9\n",
    "dEds1L = (CE(y, np.array([[2+h],[5],[3]])) - CE(y, np.array([[2-h],[5],[3]]))) / (2*h)\n",
    "dEds2L = (CE(y, np.array([[2],[5+h],[3]])) - CE(y, np.array([[2],[5-h],[3]]))) / (2*h)\n",
    "dEds3L = (CE(y, np.array([[2],[5],[3+h]])) - CE(y, np.array([[2],[5],[3-h]]))) / (2*h)\n",
    "sensNumer = np.array([[dEds1L], [dEds2L], [dEds3L]])\n",
    "assert np.linalg.norm(np.subtract(sens, sensNumer))<0.01\n",
    "\n",
    "# check one sample\n",
    "y = np.array([[0],[1],[0]], dtype=np.float64)\n",
    "sL = np.array([[500],[1],[2]], dtype=np.float64)\n",
    "sens = gradCE(y, sL)\n",
    "h = 1e-9\n",
    "dEds1L = (CE(y, np.array([[500+h],[1],[2]])) - CE(y, np.array([[500-h],[1],[2]]))) / (2*h)\n",
    "dEds2L = (CE(y, np.array([[500],[1+h],[2]])) - CE(y, np.array([[500],[1-h],[2]]))) / (2*h)\n",
    "dEds3L = (CE(y, np.array([[500],[1],[2+h]])) - CE(y, np.array([[500],[1],[2-h]]))) / (2*h)\n",
    "sensNumer = np.array([[dEds1L], [dEds2L], [dEds3L]])\n",
    "assert np.linalg.norm(np.subtract(sens, sensNumer))<0.01"
   ]
  },
  {
   "cell_type": "markdown",
   "metadata": {
    "deletable": false,
    "editable": false,
    "nbgrader": {
     "cell_type": "markdown",
     "checksum": "6317d042d67394fbfe312d01568249ec",
     "grade": false,
     "grade_id": "Backprop",
     "locked": true,
     "schema_version": 3,
     "solution": false,
     "task": false
    }
   },
   "source": [
    "## Backpropagation [2 points]\n",
    "\n",
    "The training of the network will be done via backpropagation. First derive the following gradients:\n",
    "1. $\\frac{\\partial E_{\\mathrm{in}}}{\\partial \\mathbf{W}^{\\mathrm{o}}}$, where $\\mathbf{W}^{\\mathrm{o}}$ is the weight matrix of the output layer.\n",
    "\n",
    "2. $\\frac{\\partial E_{\\mathrm{in}}}{\\partial \\mathbf{W}^{\\mathrm{h}}}$, where $\\mathbf{W}^{\\mathrm{h}}$ is the weight matrix of the hidden layer.\n",
    "\n",
    "Write the results using the steps and notation used in the textbook."
   ]
  },
  {
   "cell_type": "markdown",
   "metadata": {
    "deletable": false,
    "nbgrader": {
     "cell_type": "markdown",
     "checksum": "f6cfa472237b23a2bbe3eca66a53be88",
     "grade": true,
     "grade_id": "BackpropExpressions",
     "locked": false,
     "points": 2,
     "schema_version": 3,
     "solution": true,
     "task": false
    }
   },
   "source": [
    "1. We know from Equation 7.3 and 7.4 from the textbook that\n",
    "$$\\frac{\\partial E_{\\mathrm{in}}}{\\partial \\mathbf{W}^{(L)}} = \\frac{1}{N}\\sum_{n=1}^{N} \\frac{\\partial e_n}{\\partial \\mathbf{W}^{(L)}} = \\frac{1}{N}\\sum_{n=1}^{N} \\mathbf{x}_{n}^{(L-1)}(\\boldsymbol{\\mathbf{\\delta}}_{n}^{(L)})^T,$$ where $\\mathbf{x}_{n}^{(L-1)}$ is a $(d^{(L-1)}+1) \\times 1$ vector of the output from the hidden layer, and $\\boldsymbol{\\mathbf{\\delta}}_{n}^{L}$ is the $d^{(L)} \\times 1$ sensitivity vector of the last layer. The summation is element-wise. We can further vectorize this expression across $N$ samples: \n",
    "$$\\frac{\\partial E_{\\mathrm{in}}}{\\partial \\mathbf{W}^{(L)}} = \\frac{1}{N}\\mathbf{X}^{(L-1)}(\\boldsymbol{\\mathbf{\\delta}}^{(L)})^T = \\frac{1}{N}\\mathbf{X}^{(L-1)}(\\mathbf{X}^{(L)}-\\mathbf{Y})^T,$$ \n",
    "where $\\mathbf{X}^{(L-1)}$ is a $(d^{(L-1)}+1) \\times N$ matrix and $\\boldsymbol{\\mathbf{\\delta}}^{(L)}$ is a $d^{(L)} \\times N$ matrix of sensitivity vectors at level $L$ for all $N$ samples.\n",
    "\n",
    "2. The hidden layer has $l=1$. So we have\n",
    "$$\\frac{\\partial E_{\\mathrm{in}}}{\\partial \\mathbf{W}^{(1)}} = \\frac{1}{N}\\mathbf{X}^{(0)}(\\boldsymbol{\\mathbf{\\delta}}^{(1)})^T = \\frac{1}{N}\\mathbf{X}^{(0)}([\\mathbf{W}^{(L)}\\boldsymbol{\\mathbf{\\delta}}^{(L)}]_{1}^{d(L)} \\otimes \\{\\mathbf{s}^{(1)}>=0\\})^T,$$ where $\\mathbf{X}^{(0)}$ is a $(d^{(0)} + 1) \\times N$ input matrix."
   ]
  },
  {
   "cell_type": "markdown",
   "metadata": {
    "deletable": false,
    "editable": false,
    "nbgrader": {
     "cell_type": "markdown",
     "checksum": "b782609d11f591ab2c04ed369b794f4a",
     "grade": false,
     "grade_id": "NetworkTraining",
     "locked": true,
     "schema_version": 3,
     "solution": false,
     "task": false
    }
   },
   "source": [
    "## Network training [8 points]\n",
    "\n",
    "Implement a function to train the network. The function uses the helper functions from above. The optimization technique for backpropagation will be Gradient Descent with Momentum (i.e., we consider batch gradient descent, using all data samples for computing the gradient):\n",
    "$$\\mathbf{V}(t)=\\alpha \\mathbf{V}(t-1)-\\eta\\frac{\\partial E_{\\mathrm{in}}}{\\partial \\mathbf{W}(t)}$$\n",
    "and \n",
    "$$\\mathbf{W}(t+1)=\\mathbf{W}(t)+\\mathbf{V}(t),$$\n",
    "where $\\eta$ is the learning rate and $\\alpha$ is the momentum hyperparameter.\n",
    "\n",
    "The training function accepts the following inputs:  training data (features), training labels (targets), weight matrix of the hidden layer, weight matrix of the output layer, number of iterations (which is equal to the number of epochs as we consider batch gradient descent), parameters $\\eta$ and $\\alpha$, validation data, validation labels, test data, test labels. The validation and test inputs are initialized to \"None\" and need not be passed on. You will also need to initialize the velocity matrices $\\mathbf{V}$ for both hidden layer and output layer weights to small values, e.g. $10^{-5}%$.\n",
    "\n",
    "The function outputs the updated weight matrices after training, the CE loss and the classification accuracy for the training data as a function of the iteration, and if validation and test inputs were provided, then it also outputs the classification accuracies for the validation and test data as functions of the iteration,."
   ]
  },
  {
   "cell_type": "code",
   "execution_count": 24,
   "metadata": {
    "deletable": false,
    "nbgrader": {
     "cell_type": "code",
     "checksum": "e7fc79888b799d046903419fc99a622f",
     "grade": true,
     "grade_id": "NetworkTrainingCode",
     "locked": false,
     "points": 8,
     "schema_version": 3,
     "solution": true,
     "task": false
    }
   },
   "outputs": [],
   "source": [
    "# YOUR CODE HERE\n",
    "from IPython.display import display, clear_output\n",
    "\n",
    "def gradWOutput(x1, sensL):\n",
    "    \"\"\"\n",
    "    Returns dE_in/dW_L without normalizing by 1/N.\n",
    "    Inputs:\n",
    "    - x1: output from hidden layer, a (d(1), N) array\n",
    "    - sensL: sensitivity matrix of output layer, a (d(L), N) array\n",
    "    Returns:\n",
    "    - gradients as a (d(1)+1, d(L)) array\n",
    "    \"\"\"\n",
    "    #print(f\"sensL: {sensL}\")\n",
    "    x1AndOne = np.insert(x1, 0, 1.0, axis=0)\n",
    "    #print(f\"x1AndOne: {x1AndOne}\")\n",
    "    dEdWL = np.matmul(x1AndOne, np.transpose(sensL))\n",
    "    #print(f\"shape of dEdWL: {dEdWL.shape}\")\n",
    "    #print(f\"dEdWL: {dEdWL}\")\n",
    "    return dEdWL\n",
    "\n",
    "def gradWHidden(x0, wL, sensL, s1):\n",
    "    \"\"\"\n",
    "    Returns dE_in/dW_1 without normalizing by 1/N.\n",
    "    Inputs:\n",
    "    - x0: input to the network, a (d(0), N) array\n",
    "    - wL: weights of the output layer, a (d(1)+1, d(L)) array\n",
    "    - sensL: sensitivity matrix of the output layer, a (d(L), N) array\n",
    "    - s1: input to the hidden layer, a (d(1), N) array\n",
    "    Returns:\n",
    "    - gradients as a (d(0)+1, d(1)) array\n",
    "    \"\"\"\n",
    "    x0AndOne = np.insert(x0, 0, 1.0, axis=0) # (d(0)+1, N)\n",
    "    wSensL = np.matmul(wL, sensL)[1:, :] # (d(1), N)\n",
    "    dReludSens = s1>=0 # (d(1), N)\n",
    "    wSensLdReludSens = np.multiply(wSensL, dReludSens) # (d(1), N)\n",
    "    dEdW1 = np.matmul(x0AndOne, np.transpose(wSensLdReludSens)) #(d(0)+1, d(1))\n",
    "    return dEdW1\n",
    "\n",
    "def forwardProp(x0, w1, wL):\n",
    "    \"\"\"\n",
    "    Forward propagate on our network.\n",
    "    Inputs:\n",
    "    - x0: input data matrix of shape (d(0), N)\n",
    "    - w1: hidden layer weight matrix of shape (d(0)+1, d(1))\n",
    "    - wL: output layer weight matrix of shape (d(1)+1, d(L))\n",
    "    Returns:\n",
    "    - s1: input to hidden layer of shape (d(0)+1, N)\n",
    "    - x1: output from hidden layer of shape (d(1), N)\n",
    "    - s2: input to output layer of shape (d(1)+1, N)\n",
    "    - x2: output from output layer of shape (d(L), N)\n",
    "    \"\"\"\n",
    "    assert(x0.shape[0]+1 == w1.shape[0])\n",
    "    s1 = computeLayer(x0, w1)\n",
    "    x1 = relu(s1)\n",
    "    s2 = computeLayer(x1, wL)\n",
    "    x2 = softmax(s2)\n",
    "    return (s1, x1, s2, x2)\n",
    "\n",
    "def computeAccuracy(trueTarget, softmaxOut):\n",
    "    \"\"\"\n",
    "    Returns the accuracy of predictions, given actual and predicted\n",
    "    target one-hot matrices of same shape (c, N).\n",
    "    \"\"\"\n",
    "    # compute predicted targets with softmaxOut\n",
    "    predIndices = np.argmax(softmaxOut, axis=0)\n",
    "    predTarget = np.zeros(softmaxOut.shape)\n",
    "    predTarget[predIndices, range(0, predTarget.shape[1])] = 1.0\n",
    "    \n",
    "    # compute a (1, N) matrix in which each element is 1) 1 if pred.\n",
    "    # is correct, 2) 0 if not\n",
    "    compareMat = np.sum(np.multiply(trueTarget, predTarget), axis=0, keepdims=True)\n",
    "    \n",
    "    # compute accuracy\n",
    "    acc = np.sum(compareMat, axis=1)[0] / float(compareMat.shape[1])\n",
    "    return acc\n",
    "\n",
    "def train(trainData, trainTarget, WHidden, WOutput, numIter, eta, alpha, validData=None, validTarget=None, testData=None, testTarget=None):\n",
    "    \"\"\"\n",
    "    Train a neural network with one hidden layer and one output layer for the\n",
    "    given number of iterations, using the given training data.\n",
    "    \n",
    "    Inputs:\n",
    "    - trainData:                training features as a (d(0), N) matrix, where d(0) is the number\n",
    "                                of features\n",
    "    - trainTarget:              training target as a (d(L), N) one-hot-encoded matrix\n",
    "    - WHidden:                  initial hidden layer weights as a (d(0)+1, d(1)) matrix\n",
    "    - WOutput:                  initial output layer weights as a (d(1)+1, d(L)) matrix\n",
    "    - numIter:                  number of training epochs\n",
    "    - eta:                      learning rate\n",
    "    - alpha:                    momentum hyperparameter\n",
    "    - validData (optional):     validation features as a (d(0), N') matrix\n",
    "    - validTarget (optional):   validation target as a (d(L), N') matrix\n",
    "    - testData (optional):      test features as a (d(0), N'') matrix\n",
    "    - testTarget (optional):    test target as a (d(L), N'') matrix\n",
    "    \n",
    "    Returns:\n",
    "    - the final weights of the hidden layer\n",
    "    - the final weights of the output layer\n",
    "    - list of training CE losses over iterations\n",
    "    - list of training accuracies over iterations\n",
    "    - (if validation data provided) list of validation accuracies over iterations\n",
    "    - (if test data provided) list of test accuracies over iterations\n",
    "    \"\"\"\n",
    "    # initialize the velocity matrices\n",
    "    WHiddenCpy = np.copy(WHidden)\n",
    "    WOutputCpy = np.copy(WOutput)\n",
    "    VHidden = 1e-5 * np.ones(WHiddenCpy.shape)\n",
    "    VOutput = 1e-5 * np.ones(WOutputCpy.shape)\n",
    "    \n",
    "    # initialize losses and accuracies\n",
    "    trainLosses = []\n",
    "    trainAccs = []\n",
    "    validAccs = []\n",
    "    testAccs = []\n",
    "    \n",
    "    # train for numIter epochs    \n",
    "    for epoch in range(0, numIter):\n",
    "        \n",
    "        # forward prop on training set to prepare values for backprop\n",
    "        s1, x1, s2, x2 = forwardProp(trainData, WHiddenCpy, WOutputCpy)\n",
    "        \n",
    "        # compute weight gradients (without normalizing by 1/N)\n",
    "        sensOutput = gradCE(trainTarget, s2)\n",
    "        dEdWOutput = gradWOutput(x1, sensOutput)\n",
    "        dEdWHidden = gradWHidden(trainData, WOutputCpy, sensOutput, s1)\n",
    "        \n",
    "        # backprop to update weights\n",
    "        VOutput = alpha * VOutput - eta * dEdWOutput\n",
    "        VHidden = alpha * VHidden - eta * dEdWHidden\n",
    "        WOutputCpy = WOutputCpy + VOutput\n",
    "        WHiddenCpy = WHiddenCpy + VHidden\n",
    "        \n",
    "        # forward prop again to compute loss and accuracies\n",
    "        # forward prop on training set\n",
    "        s1, x1, s2, x2 = forwardProp(trainData, WHiddenCpy, WOutputCpy)\n",
    "        # forward prop on valid set\n",
    "        s2V = None\n",
    "        x2V = None\n",
    "        if (validData is not None) and (validTarget is not None):\n",
    "            _, _, s2V, x2V = forwardProp(validData, WHiddenCpy, WOutputCpy)\n",
    "        # forward prop on test set\n",
    "        s2T = None\n",
    "        x2T = None\n",
    "        if (testData is not None) and (testTarget is not None):\n",
    "            _, _, s2T, x2T = forwardProp(testData, WHiddenCpy, WOutputCpy)\n",
    "        \n",
    "        # compute loss (for training set only)\n",
    "        trainLoss = CE(trainTarget, s2)\n",
    "        trainLosses.append(trainLoss)\n",
    "        \n",
    "        # display which iteration we are at and report loss. Idea from\n",
    "        # https://stackoverflow.com/questions/38540395/overwrite-previous-output-in-jupyter-notebook\n",
    "        #clear_output(wait=True)\n",
    "        #display(f\"Iteration {epoch}, loss: {trainLoss}\")\n",
    "        \n",
    "        # compute (and display at last epoch) accuracies\n",
    "        trainAcc = computeAccuracy(trainTarget, x2)\n",
    "        trainAccs.append(trainAcc)\n",
    "        if epoch == numIter-1:\n",
    "            print(f\"Final training accuracy: {(100 * trainAcc):.2f}%\")\n",
    "        if (validData is not None) and (validTarget is not None):\n",
    "            validAcc = computeAccuracy(validTarget, x2V)\n",
    "            validAccs.append(validAcc)\n",
    "            if epoch == numIter-1:\n",
    "                print(f\"Final validation accuracy: {(100 * validAcc):.2f}%\")\n",
    "        if (testData is not None) and (testTarget is not None):\n",
    "            testAcc = computeAccuracy(testTarget, x2T)\n",
    "            testAccs.append(testAcc)\n",
    "            if epoch == numIter-1:\n",
    "                print(f\"Final test accuracy: {(100 * testAcc):.2f}%\")\n",
    "    \n",
    "    # return stuff\n",
    "    # only training data provided\n",
    "    if (validData is None) and (validTarget is None) and (testData is None) and (testTarget is None):\n",
    "        return (WHiddenCpy, WOutputCpy, trainLosses, trainAccs)\n",
    "    # both training and valid data provided\n",
    "    elif (testData is None) and (testTarget is None):\n",
    "        return (WHiddenCpy, WOutputCpy, trainLosses, trainAccs, validAccs)\n",
    "    # training, valid and test data provided\n",
    "    else:\n",
    "        return (WHiddenCpy, WOutputCpy, trainLosses, trainAccs, validAccs, testAccs)\n",
    "\n",
    "# test code\n",
    "def computeNumGrads(data, target, wH, wO, h):\n",
    "    \"\"\"\n",
    "    Compute numerical gradients dE_in/dW_h and dE_in/dW_o.\n",
    "    \"\"\"\n",
    "    # compute dE_in/dW_o\n",
    "    dEdWO = np.zeros(wO.shape)\n",
    "    for row in range(0, dEdWO.shape[0]):\n",
    "        for col in range(0, dEdWO.shape[1]):\n",
    "            wOPlusH = np.copy(wO)\n",
    "            wOPlusH[row, col] = wOPlusH[row, col] + h\n",
    "            _, _, s2PlusH, _ = forwardProp(data, wH, wOPlusH)\n",
    "            EPlusH = CE(target, s2PlusH)\n",
    "            wOMinusH = np.copy(wO)\n",
    "            wOMinusH[row, col] = wOMinusH[row, col] - h\n",
    "            _, _, s2MinusH, _ = forwardProp(data, wH, wOMinusH)\n",
    "            EMinusH = CE(target, s2MinusH)\n",
    "            dEdWO[row, col] = (EPlusH - EMinusH) / (2*h)\n",
    "    # compute dE_in/dW_h\n",
    "    dEdWH = np.zeros(wH.shape)\n",
    "    for row in range(0, dEdWH.shape[0]):\n",
    "        for col in range(0, dEdWH.shape[1]):\n",
    "            wHPlusH = np.copy(wH)\n",
    "            wHPlusH[row, col] = wHPlusH[row, col] + h\n",
    "            _, _, s2PlusH, _ = forwardProp(data, wHPlusH, wO)\n",
    "            EPlusH = CE(target, s2PlusH)\n",
    "            wHMinusH = np.copy(wH)\n",
    "            wHMinusH[row, col] = wHMinusH[row, col] - h\n",
    "            _, _, s2MinusH, _ = forwardProp(data, wHMinusH, wO)\n",
    "            EMinusH = CE(target, s2MinusH)\n",
    "            dEdWH[row, col] = (EPlusH - EMinusH) / (2*h)\n",
    "    return (dEdWH, dEdWO)\n",
    "            \n",
    "# set up\n",
    "data = np.array([[5, 1], [2, 3]], dtype=np.float64)\n",
    "target = np.array([[1, 1], [0, 0]], dtype=np.float64)\n",
    "wH = np.array([[3, 4], [7, 8], [1, 3]], dtype=np.float64)\n",
    "wO = np.array([[2, 6], [1, 4], [1, 5]], dtype=np.float64)\n",
    "h = 1e-9\n",
    "\n",
    "# check gradWOutput, gradWHidden\n",
    "dEdWHNum, dEdWONum = computeNumGrads(data, target, wH, wO, h)\n",
    "s1, x1, s2, x2 = forwardProp(data, wH, wO)\n",
    "sensO = gradCE(target, s2)\n",
    "dEdWOAna = (1.0 /data.shape[1]) * gradWOutput(x1, sensO)\n",
    "dEdWHAna = (1.0 /data.shape[1]) * gradWHidden(data, wO, sensO, s1)\n",
    "assert np.linalg.norm(np.subtract(dEdWONum, dEdWOAna))<0.01\n",
    "assert np.linalg.norm(np.subtract(dEdWHNum, dEdWHAna))<0.01\n",
    "\n",
    "# check computeAccuracy\n",
    "trueTar = np.array([[1, 0, 0], [0, 1, 1]])\n",
    "predTar = np.array([[0.8, 0.9, 0.0], [0.2, 0.1, 1.0]])\n",
    "acc = computeAccuracy(trueTar, predTar)\n",
    "assert np.linalg.norm(np.subtract(acc, 0.6666))<0.01"
   ]
  },
  {
   "cell_type": "markdown",
   "metadata": {
    "deletable": false,
    "editable": false,
    "nbgrader": {
     "cell_type": "markdown",
     "checksum": "6104a1ca1d55f8a133c14b222d79770f",
     "grade": false,
     "grade_id": "Network",
     "locked": true,
     "schema_version": 3,
     "solution": false,
     "task": false
    }
   },
   "source": [
    "## Network test [4 points]\n",
    "\n",
    "Write a script that constructs the neural network.\n",
    "\n",
    "Initialize your weight matrices by drawing the elements i.i.d. at random from a zero-mean Gaussian distribution with variance equal to $$\\sigma_w^2=\\frac{2}{\\mbox{# of input nodes + # of output nodes}}$$ (Xavier normalization http://proceedings.mlr.press/v9/glorot10a/glorot10a.pdf) \n",
    "\n",
    "Build a network with 1000 hidden units and train it for 200 iterations ($=$epochs) using $\\alpha=0.9$ and $\\eta=10^{-5}$. Plot the training, validation and testing accuracy curves (i.e., accuracy as a function of iteration). State the final training, validation and testing accuracies after training. Show the plot and state the final accuracies in the next text cell."
   ]
  },
  {
   "cell_type": "code",
   "execution_count": 26,
   "metadata": {
    "deletable": false,
    "nbgrader": {
     "cell_type": "code",
     "checksum": "f1fbdb448e6ebcecc2b7551553dca4c5",
     "grade": true,
     "grade_id": "NetworkCode",
     "locked": false,
     "points": 2,
     "schema_version": 3,
     "solution": true,
     "task": false
    }
   },
   "outputs": [
    {
     "name": "stdout",
     "output_type": "stream",
     "text": [
      "Number of training images: 15000\n",
      "Number of validation images: 1000\n",
      "Number of test images: 2724\n",
      "Final training accuracy: 98.06%\n",
      "Final validation accuracy: 93.50%\n",
      "Final test accuracy: 92.11%\n"
     ]
    },
    {
     "data": {
      "image/png": "[encoded data removed]",
      "text/plain": [
       "<Figure size 432x288 with 1 Axes>"
      ]
     },
     "metadata": {
      "needs_background": "light"
     },
     "output_type": "display_data"
    },
    {
     "data": {
      "image/png": "[encoded data removed]",
      "text/plain": [
       "<Figure size 432x288 with 1 Axes>"
      ]
     },
     "metadata": {
      "needs_background": "light"
     },
     "output_type": "display_data"
    }
   ],
   "source": [
    "# YOUR CODE HERE\n",
    "# reload features and targets\n",
    "trainData, validData, testData, trainTarget, validTarget, testTarget = loadData()\n",
    "trainTargetOneHot, validTargetOneHot, testTargetOneHot = convertOneHot(trainTarget, validTarget, testTarget)\n",
    "\n",
    "# initialize hidden layer weights\n",
    "numNodesInHidden = (trainData.shape[1] * trainData.shape[2]) + 1\n",
    "numNodesOutHidden = 1000\n",
    "sigmaHidden = np.sqrt(2/(numNodesInHidden + numNodesOutHidden + 1))\n",
    "WHiddenInit = np.random.normal(loc=0.0, scale=sigmaHidden, size=(numNodesInHidden, numNodesOutHidden))\n",
    "\n",
    "# initialize output layer weights\n",
    "numNodesInOutput = numNodesOutHidden + 1\n",
    "numNodesOutOutput = 10\n",
    "sigmaOut = np.sqrt(2/(numNodesInOutput + numNodesOutOutput + 1))\n",
    "WOutputInit = np.random.normal(loc=0.0, scale=sigmaOut, size=(numNodesInOutput, numNodesOutOutput))\n",
    "\n",
    "# set up number of iterations, alpha, eta\n",
    "numIter = 200\n",
    "alpha = 0.9\n",
    "eta = 1e-5\n",
    "\n",
    "# flatten features\n",
    "trainData = np.transpose(np.reshape(trainData, (trainData.shape[0], trainData.shape[1]*trainData.shape[2])))\n",
    "validData = np.transpose(np.reshape(validData, (validData.shape[0], validData.shape[1]*validData.shape[2])))\n",
    "testData = np.transpose(np.reshape(testData, (testData.shape[0], testData.shape[1]*testData.shape[2])))\n",
    "\n",
    "# sanity check on features and targets\n",
    "assert trainData.shape[0]==784 and validData.shape[0]==784 and testData.shape[0]==784\n",
    "print(f\"Number of training images: {trainData.shape[1]}\")\n",
    "print(f\"Number of validation images: {validData.shape[1]}\")\n",
    "print(f\"Number of test images: {testData.shape[1]}\")\n",
    "assert trainTargetOneHot.shape[0]==10 and validTargetOneHot.shape[0]==10 and testTargetOneHot.shape[0]==10\n",
    "\n",
    "# train\n",
    "WHiddenFinal, WOutputFinal, trainLosses, trainAccs, validAccs, testAccs = train(trainData, trainTargetOneHot, WHiddenInit, WOutputInit, numIter, eta, alpha, validData, validTargetOneHot, testData, testTargetOneHot)\n",
    "\n",
    "# visualize training loss\n",
    "fig = plt.figure(0)\n",
    "ax = fig.add_subplot(1, 1, 1)\n",
    "ax.plot(trainLosses)\n",
    "ax.set_title('Training loss vs epoch curve')\n",
    "ax.set_xlabel('Epoch')\n",
    "ax.set_ylabel('Loss')\n",
    "plt.savefig('train_loss.png')\n",
    "\n",
    "# visualize training/validation/test accuracy\n",
    "fig = plt.figure(1)\n",
    "ax = fig.add_subplot(1, 1, 1)\n",
    "ax.plot(trainAccs, label='train')\n",
    "ax.plot(validAccs, label='valid')\n",
    "ax.plot(testAccs, label='test')\n",
    "ax.legend(loc='best')\n",
    "ax.set_title('Training/Valid/Test accuracy vs epoch curve')\n",
    "ax.set_xlabel('Epoch')\n",
    "ax.set_ylabel('Accuracy')\n",
    "plt.savefig('train+valid+test_acc.png')"
   ]
  },
  {
   "cell_type": "markdown",
   "metadata": {
    "deletable": false,
    "nbgrader": {
     "cell_type": "markdown",
     "checksum": "f26a4c69de4bb177cb2bbd3a06d9e9a9",
     "grade": true,
     "grade_id": "Results",
     "locked": false,
     "points": 2,
     "schema_version": 3,
     "solution": true,
     "task": false
    }
   },
   "source": [
    "![loss](train_loss.png)\n",
    "![acc](train+valid+test_acc.png)\n",
    "\n",
    "- Final training accuracy: 93.85%\n",
    "- Final validation accuracy: 90.37%\n",
    "- Final test accuracy: 89.54%"
   ]
  },
  {
   "cell_type": "markdown",
   "metadata": {
    "deletable": false,
    "editable": false,
    "nbgrader": {
     "cell_type": "markdown",
     "checksum": "c9b403d60990c9d5d999878e802842b5",
     "grade": false,
     "grade_id": "Hyperpara",
     "locked": true,
     "schema_version": 3,
     "solution": false,
     "task": false
    }
   },
   "source": [
    "## Hyperparameter investigation [3 points]\n",
    "\n",
    "Continue to use $\\alpha=0.9$ and $\\eta=10^{-5}$.\n",
    "\n",
    "Test your network with 500 and 1500 hidden nodes and train for 200 epochs. Comment based on the validation accuracy after how many epochs training could be terminated early. \n",
    "\n",
    "Plot the training and validation accuracy curves for all three network sizes (500, 1000, 1500) and 200 training epochs, and report the test accuracy for your selected network size and training length. Show the plots and state the final accuracies in the next text cell."
   ]
  },
  {
   "cell_type": "code",
   "execution_count": 27,
   "metadata": {
    "deletable": false,
    "nbgrader": {
     "cell_type": "code",
     "checksum": "58b16b50f61f0c84aa9ab54a21ade230",
     "grade": true,
     "grade_id": "HyperparaTest",
     "locked": false,
     "points": 0,
     "schema_version": 3,
     "solution": true,
     "task": false
    }
   },
   "outputs": [
    {
     "name": "stdout",
     "output_type": "stream",
     "text": [
      "Training with 500 nodes in the hidden layer for 100 iterations\n",
      "Final training accuracy: 94.33%\n",
      "Final validation accuracy: 92.10%\n",
      "Final test accuracy: 91.23%\n",
      "Training with 1000 nodes in the hidden layer for 100 iterations\n",
      "Final training accuracy: 94.49%\n",
      "Final validation accuracy: 91.90%\n",
      "Final test accuracy: 91.01%\n",
      "Training with 1500 nodes in the hidden layer for 100 iterations\n",
      "Final training accuracy: 94.96%\n",
      "Final validation accuracy: 92.40%\n",
      "Final test accuracy: 91.34%\n",
      "Training with 500 nodes in the hidden layer for 300 iterations\n",
      "Final training accuracy: 99.09%\n",
      "Final validation accuracy: 93.00%\n",
      "Final test accuracy: 92.03%\n",
      "Training with 1000 nodes in the hidden layer for 300 iterations\n",
      "Final training accuracy: 99.32%\n",
      "Final validation accuracy: 93.50%\n",
      "Final test accuracy: 91.92%\n",
      "Training with 1500 nodes in the hidden layer for 300 iterations\n",
      "Final training accuracy: 99.48%\n",
      "Final validation accuracy: 93.80%\n",
      "Final test accuracy: 92.07%\n"
     ]
    },
    {
     "data": {
      "image/png": "[encoded data removed]",
      "text/plain": [
       "<Figure size 432x288 with 1 Axes>"
      ]
     },
     "metadata": {
      "needs_background": "light"
     },
     "output_type": "display_data"
    },
    {
     "data": {
      "image/png": "[encoded data removed]",
      "text/plain": [
       "<Figure size 432x288 with 1 Axes>"
      ]
     },
     "metadata": {
      "needs_background": "light"
     },
     "output_type": "display_data"
    },
    {
     "data": {
      "image/png": "[encoded data removed]",
      "text/plain": [
       "<Figure size 432x288 with 1 Axes>"
      ]
     },
     "metadata": {
      "needs_background": "light"
     },
     "output_type": "display_data"
    },
    {
     "data": {
      "image/png": "[encoded data removed]",
      "text/plain": [
       "<Figure size 432x288 with 1 Axes>"
      ]
     },
     "metadata": {
      "needs_background": "light"
     },
     "output_type": "display_data"
    },
    {
     "data": {
      "image/png": "[encoded data removed]",
      "text/plain": [
       "<Figure size 432x288 with 1 Axes>"
      ]
     },
     "metadata": {
      "needs_background": "light"
     },
     "output_type": "display_data"
    },
    {
     "data": {
      "image/png": "[encoded data removed]",
      "text/plain": [
       "<Figure size 432x288 with 1 Axes>"
      ]
     },
     "metadata": {
      "needs_background": "light"
     },
     "output_type": "display_data"
    }
   ],
   "source": [
    "# YOUR CODE HERE\n",
    "def initWeights(sizeIn, sizeHidden, sizeOutput):\n",
    "    \"\"\"\n",
    "    Return initial weight matrices for the hidden layer \n",
    "    and the output layer. We use Xavier initialization\n",
    "    here.\n",
    "    Inputs:\n",
    "    - sizeIn: number of input features, d(0)\n",
    "    - sizeHidden: number of nodes in the hidden layer,\n",
    "      d(1)\n",
    "    - sizeOutput: number of nodes in the output layer,\n",
    "      d(L)\n",
    "    Returns:\n",
    "    - WHidden: hidden layer weights of shape (d(0)+1, d(1))\n",
    "    - WOutput: output layer weights of shape (d(1)+1, d(L))\n",
    "    \"\"\"\n",
    "    # initialize hidden layer weights\n",
    "    numNodesInHidden = sizeIn + 1\n",
    "    numNodesOutHidden = sizeHidden\n",
    "    sigmaHidden = np.sqrt(2/(numNodesInHidden + numNodesOutHidden + 1))\n",
    "    WHidden = np.random.normal(loc=0.0, scale=sigmaHidden, size=(numNodesInHidden, numNodesOutHidden))\n",
    "\n",
    "    # initialize output layer weights\n",
    "    numNodesInOutput = numNodesOutHidden + 1\n",
    "    numNodesOutOutput = sizeOutput\n",
    "    sigmaOut = np.sqrt(2/(numNodesInOutput + numNodesOutOutput))\n",
    "    WOutput = np.random.normal(loc=0.0, scale=sigmaOut, size=(numNodesInOutput, numNodesOutOutput))\n",
    "    return (WHidden, WOutput)\n",
    "\n",
    "# test code for initWeights\n",
    "w1, wl = initWeights(3, 20, 4)\n",
    "assert w1.shape == (4, 20) and wl.shape == (21, 4)\n",
    "\n",
    "# reload features and targets\n",
    "trainData, validData, testData, trainTarget, validTarget, testTarget = loadData()\n",
    "trainTargetOneHot, validTargetOneHot, testTargetOneHot = convertOneHot(trainTarget, validTarget, testTarget)\n",
    "\n",
    "# flatten features\n",
    "trainData = np.transpose(np.reshape(trainData, (trainData.shape[0], trainData.shape[1]*trainData.shape[2])))\n",
    "validData = np.transpose(np.reshape(validData, (validData.shape[0], validData.shape[1]*validData.shape[2])))\n",
    "testData = np.transpose(np.reshape(testData, (testData.shape[0], testData.shape[1]*testData.shape[2])))\n",
    "\n",
    "# initialize other hyperparams\n",
    "eta = 1e-5\n",
    "alpha = 0.9\n",
    "\n",
    "def trainWithVariableEpoch(numIter, eta, alpha, trainData, trainTargetOneHot, validData, validTargetOneHot, testData, testTargetOneHot):\n",
    "    \"\"\"\n",
    "    Train on 500, 1k, 1.5k hidden layer units for \n",
    "    specified number of epochs. Save accuracy vs.\n",
    "    epoch curves to \n",
    "    train+valid+test_acc_<hidden layer size>_<epoch>.png\n",
    "    \"\"\"\n",
    "    for sizeHidden in [500, 1000, 1500]:    \n",
    "        # initialize weights\n",
    "        WHiddenInit, WOutputInit = initWeights(trainData.shape[0], sizeHidden, 10)\n",
    "\n",
    "        # train\n",
    "        print(f\"Training with {sizeHidden} nodes in the hidden layer for {numIter} iterations\")\n",
    "        WHiddenFinal, WOutputFinal, trainLosses, trainAccs, validAccs, testAccs = train(trainData, trainTargetOneHot, WHiddenInit, WOutputInit, numIter, eta, alpha, validData, validTargetOneHot, testData, testTargetOneHot)\n",
    "\n",
    "        # visualize training/validation/test accuracy\n",
    "        fig = plt.figure()\n",
    "        ax = fig.add_subplot(1, 1, 1)\n",
    "        ax.plot(trainAccs, label='train')\n",
    "        ax.plot(validAccs, label='valid')\n",
    "        ax.plot(testAccs, label='test')\n",
    "        ax.legend(loc='best')\n",
    "        ax.set_title(f'Training/Valid/Test accuracy vs epoch curve, {sizeHidden} hidden layer units, {numIter} epochs')\n",
    "        ax.set_xlabel('Epoch')\n",
    "        ax.set_ylabel('Accuracy')\n",
    "        plt.savefig(f'train+valid+test_acc_{sizeHidden}_{numIter}.png')\n",
    "    \n",
    "\n",
    "# for the three hidden layer sizes, train for 200 epochs\n",
    "#trainWithVariableEpoch(200, eta, alpha, trainData, trainTargetOneHot, validData, validTargetOneHot, testData, testTargetOneHot)\n",
    "\n",
    "# for the three hidden layer sizes, train for 100 epochs\n",
    "trainWithVariableEpoch(100, eta, alpha, trainData, trainTargetOneHot, validData, validTargetOneHot, testData, testTargetOneHot)\n",
    "\n",
    "# for the three hidden layer sizes, train for 300 epochs\n",
    "trainWithVariableEpoch(300, eta, alpha, trainData, trainTargetOneHot, validData, validTargetOneHot, testData, testTargetOneHot)"
   ]
  },
  {
   "cell_type": "markdown",
   "metadata": {
    "deletable": false,
    "nbgrader": {
     "cell_type": "markdown",
     "checksum": "d2d8de9ace078f8685a691b294b035f0",
     "grade": true,
     "grade_id": "HyperparaResults",
     "locked": false,
     "points": 3,
     "schema_version": 3,
     "solution": true,
     "task": false
    }
   },
   "source": [
    "Accuracies for 200 epochs:\n",
    "\n",
    "![acc_500](train+valid+test_acc_500_200.png)\n",
    "![acc_1000](train+valid+test_acc_1000_200.png)\n",
    "![acc_1500](train+valid+test_acc_1500_200.png)\n",
    "\n",
    "After training for 200 epochs,\n",
    "- 500 hidden layer units, final test accuracy: 89.28%\n",
    "- 1000 hidden layer units, final test accuracy: 89.41%\n",
    "- 1500 hidden layer units, final test accuracy: 89.38%\n",
    "\n",
    "We notice from the plots that regardless of hidden layer size, validation accuracy plateaued after 75 to 100 epochs. So we trained again for 100 epochs. We then find with **1500 nodes** in the hidden layer we have the highest accuracies:\n",
    "- Final training accuracy: 90.30%\n",
    "- Final validation accuracy: 88.82%\n",
    "- Final test accuracy: 88.11%"
   ]
  },
  {
   "cell_type": "code",
   "execution_count": null,
   "metadata": {},
   "outputs": [],
   "source": []
  }
 ],
 "metadata": {
  "kernelspec": {
   "display_name": "Python 3",
   "language": "python",
   "name": "python3"
  },
  "language_info": {
   "codemirror_mode": {
    "name": "ipython",
    "version": 3
   },
   "file_extension": ".py",
   "mimetype": "text/x-python",
   "name": "python",
   "nbconvert_exporter": "python",
   "pygments_lexer": "ipython3",
   "version": "3.7.3"
  }
 },
 "nbformat": 4,
 "nbformat_minor": 2
}
